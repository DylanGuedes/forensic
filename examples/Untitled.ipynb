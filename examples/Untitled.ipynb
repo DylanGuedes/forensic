{
 "cells": [
  {
   "cell_type": "markdown",
   "metadata": {},
   "source": [
    "# Running a Linear Regression"
   ]
  },
  {
   "cell_type": "code",
   "execution_count": 1,
   "metadata": {},
   "outputs": [],
   "source": [
    "import requests\n",
    "url = \"http://localhost:4545/api/run_job\""
   ]
  },
  {
   "cell_type": "code",
   "execution_count": 3,
   "metadata": {},
   "outputs": [],
   "source": [
    "r = requests.post(url, json={\n",
    "    'job': 'linear_regression',\n",
    "    'others': ['tick', 'nodeID'],\n",
    "    'current_location_schema': ['tick', 'integer'],\n",
    "    'capabilities': ['current_location']\n",
    "})"
   ]
  },
  {
   "cell_type": "code",
   "execution_count": 4,
   "metadata": {},
   "outputs": [],
   "source": [
    "r = requests.post(url, json={\n",
    "    'job': 'linear_regression',\n",
    "    'others': ['house_pricing', 'price', 'sq__ft', 'baths', 'beds', 'zip'],\n",
    "    'house_pricing_schema': ['city', 'string','zip', 'integer','state', 'integer', 'beds', 'integer', 'baths', 'integer', 'sq__ft', 'integer', 'type', 'string', 'sale_date', 'date', 'price', 'integer'],\n",
    "    'capabilities': ['house_pricing'],\n",
    "    'publish_strategy': {'name': 'console'}})"
   ]
  },
  {
   "cell_type": "code",
   "execution_count": 11,
   "metadata": {},
   "outputs": [],
   "source": [
    "r = requests.post(url, json={\n",
    "    'job': 'linear_regression',\n",
    "    'others': ['house_pricing', 'price', 'sq__ft', 'baths', 'beds', 'zip'],\n",
    "    'house_pricing_schema': ['city', 'string','zip', 'integer','state', 'integer', 'beds', 'integer', 'baths', 'integer', 'sq__ft', 'integer', 'type', 'string', 'sale_date', 'date', 'price', 'integer'],\n",
    "    'capabilities': ['house_pricing'],\n",
    "    'publish_strategy': {'name': 'hdfs', 'file_name': 'mymodel.csv', 'format': 'csv'}})"
   ]
  },
  {
   "cell_type": "code",
   "execution_count": null,
   "metadata": {},
   "outputs": [],
   "source": []
  }
 ],
 "metadata": {
  "kernelspec": {
   "display_name": "Python 3",
   "language": "python",
   "name": "python3"
  },
  "language_info": {
   "codemirror_mode": {
    "name": "ipython",
    "version": 3
   },
   "file_extension": ".py",
   "mimetype": "text/x-python",
   "name": "python",
   "nbconvert_exporter": "python",
   "pygments_lexer": "ipython3",
   "version": "3.6.5"
  }
 },
 "nbformat": 4,
 "nbformat_minor": 2
}
